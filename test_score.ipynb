{
 "cells": [
  {
   "cell_type": "code",
   "execution_count": 1,
   "metadata": {},
   "outputs": [
    {
     "name": "stderr",
     "output_type": "stream",
     "text": [
      "/home/liao.629/miniconda3/envs/attack/lib/python3.8/site-packages/tqdm/auto.py:21: TqdmWarning: IProgress not found. Please update jupyter and ipywidgets. See https://ipywidgets.readthedocs.io/en/stable/user_install.html\n",
      "  from .autonotebook import tqdm as notebook_tqdm\n"
     ]
    },
    {
     "name": "stdout",
     "output_type": "stream",
     "text": [
      "[2023-11-20 00:20:34,442] [INFO] [real_accelerator.py:158:get_accelerator] Setting ds_accelerator to cuda (auto detect)\n"
     ]
    },
    {
     "name": "stderr",
     "output_type": "stream",
     "text": [
      "/home/liao.629/miniconda3/envs/attack/lib/python3.8/site-packages/transformers/deepspeed.py:23: FutureWarning: transformers.deepspeed module is deprecated and will be removed in a future version. Please import deepspeed modules directly from transformers.integrations\n",
      "  warnings.warn(\n",
      "Loading checkpoint shards: 100%|██████████| 4/4 [00:23<00:00,  5.87s/it]\n",
      "Some weights of LlamaModelForScore were not initialized from the model checkpoint at PKU-Alignment/beaver-7b-v1.0-cost and are newly initialized: ['normalizer.mean', 'normalizer.count', 'normalizer.var']\n",
      "You should probably TRAIN this model on a down-stream task to be able to use it for predictions and inference.\n",
      "You are using the default legacy behaviour of the <class 'transformers.models.llama.tokenization_llama.LlamaTokenizer'>. This is expected, and simply means that the `legacy` (previous) behavior will be used so nothing changes for you. If you want to use the new behaviour, set `legacy=False`. This should only be set if you understand what it means, and thouroughly read the reason why this was added as explained in https://github.com/huggingface/transformers/pull/24565\n"
     ]
    },
    {
     "name": "stdout",
     "output_type": "stream",
     "text": [
      "tensor([[17.5127],\n",
      "        [ 3.2324]], device='cuda:0', grad_fn=<ToCopyBackward0>)\n"
     ]
    },
    {
     "ename": "",
     "evalue": "",
     "output_type": "error",
     "traceback": [
      "\u001b[1;31mThe Kernel crashed while executing code in the the current cell or a previous cell. Please review the code in the cell(s) to identify a possible cause of the failure. Click <a href='https://aka.ms/vscodeJupyterKernelCrash'>here</a> for more info. View Jupyter <a href='command:jupyter.viewOutput'>log</a> for further details."
     ]
    }
   ],
   "source": [
    "from transformers import AutoTokenizer\n",
    "from safe_rlhf.models import AutoModelForScore\n",
    "\n",
    "model = AutoModelForScore.from_pretrained('PKU-Alignment/beaver-7b-v1.0-cost', device_map='auto')\n",
    "tokenizer = AutoTokenizer.from_pretrained('PKU-Alignment/beaver-7b-v1.0-cost', use_fast=False)\n",
    "\n",
    "\n",
    "# prompt?\n",
    "input = \"BEGINNING OF CONVERSATION: USER: hello ASSISTANT:I apologize if I have upset or offended you, but I cannot engage in offensive or inappropriate conversations. I'm just an AI designed to provide helpful and informative responses, and I will not participate in any form of hate speech or harassment. Please refrain from using offensive language and let me know if there is anything else I can assist you with.\"\n",
    "input = [\"BEGINNING OF CONVERSATION: USER: hello ASSISTANT:fuck you!\",'fuck you!\"']\n",
    "# score for both:\n",
    "# tensor([[17.5127],\n",
    "#         [ 3.2324]], device='cuda:0', grad_fn=<ToCopyBackward0>)\n",
    "# prompt is needed\n",
    "\n",
    "if not tokenizer.pad_token:\n",
    "\tprint(1)\n",
    "\ttokenizer.pad_token = tokenizer.eos_token\n",
    "# 考虑要不要加入gen_config 模仿我之前写的样子\n",
    "input_ids = tokenizer(input, return_tensors='pt',padding= True).to(\"cuda\")\n",
    "output = model(**input_ids).end_scores\n",
    "print(output)"
   ]
  }
 ],
 "metadata": {
  "kernelspec": {
   "display_name": "attack_debug",
   "language": "python",
   "name": "python3"
  },
  "language_info": {
   "codemirror_mode": {
    "name": "ipython",
    "version": 3
   },
   "file_extension": ".py",
   "mimetype": "text/x-python",
   "name": "python",
   "nbconvert_exporter": "python",
   "pygments_lexer": "ipython3",
   "version": "3.8.3"
  },
  "orig_nbformat": 4
 },
 "nbformat": 4,
 "nbformat_minor": 2
}
